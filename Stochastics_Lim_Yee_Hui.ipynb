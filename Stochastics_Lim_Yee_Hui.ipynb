{
  "nbformat": 4,
  "nbformat_minor": 0,
  "metadata": {
    "colab": {
      "provenance": [],
      "authorship_tag": "ABX9TyPF3CtSk4aRB3AfuSGzxMeo",
      "include_colab_link": true
    },
    "kernelspec": {
      "name": "python3",
      "display_name": "Python 3"
    },
    "language_info": {
      "name": "python"
    }
  },
  "cells": [
    {
      "cell_type": "markdown",
      "metadata": {
        "id": "view-in-github",
        "colab_type": "text"
      },
      "source": [
        "<a href=\"https://colab.research.google.com/github/Yeehui13/Stochastics/blob/main/Stochastics_Lim_Yee_Hui.ipynb\" target=\"_parent\"><img src=\"https://colab.research.google.com/assets/colab-badge.svg\" alt=\"Open In Colab\"/></a>"
      ]
    },
    {
      "cell_type": "markdown",
      "source": [
        "## Stochastics"
      ],
      "metadata": {
        "id": "RAun4VAJtTnT"
      }
    },
    {
      "cell_type": "code",
      "execution_count": null,
      "metadata": {
        "id": "jOgJ5Lzfse59"
      },
      "outputs": [],
      "source": [
        "import math\n",
        "import numpy as np\n",
        "import numpy.random as npr\n",
        "from pylab import plt, mpl"
      ]
    },
    {
      "cell_type": "code",
      "source": [
        "plt.style.use('seaborn')\n",
        "mpl.rcParams['font.family'] = 'serif'\n",
        "#config InlineBackend.figure_format = 'svg'"
      ],
      "metadata": {
        "colab": {
          "base_uri": "https://localhost:8080/"
        },
        "id": "lUs0j5aEs15Z",
        "outputId": "10e773bf-0142-47cb-902a-d62cc33ec963"
      },
      "execution_count": null,
      "outputs": [
        {
          "output_type": "stream",
          "name": "stderr",
          "text": [
            "<ipython-input-4-396eebc7ce37>:1: MatplotlibDeprecationWarning: The seaborn styles shipped by Matplotlib are deprecated since 3.6, as they no longer correspond to the styles shipped by seaborn. However, they will remain available as 'seaborn-v0_8-<style>'. Alternatively, directly use the seaborn API instead.\n",
            "  plt.style.use('seaborn')\n"
          ]
        }
      ]
    },
    {
      "cell_type": "markdown",
      "source": [
        "## Random Numbers"
      ],
      "metadata": {
        "id": "tcoavRuKtf0w"
      }
    },
    {
      "cell_type": "code",
      "source": [
        "npr.seed(100)  #sets the seed for the random number generator in the npr module, the same sequence of random numbers will be generated.\n",
        "np.set_printoptions(precision=4)  #sets the precision of floating point numbers printed by NumPy to 4 decimal places."
      ],
      "metadata": {
        "id": "snflREfLtl2a"
      },
      "execution_count": null,
      "outputs": []
    },
    {
      "cell_type": "code",
      "source": [
        "npr.rand(10)  #generate a random number between 0 to 10"
      ],
      "metadata": {
        "colab": {
          "base_uri": "https://localhost:8080/"
        },
        "id": "AxJKMSO8tvaL",
        "outputId": "db8da7f4-bec0-4d82-83f2-f368fb294f23"
      },
      "execution_count": null,
      "outputs": [
        {
          "output_type": "execute_result",
          "data": {
            "text/plain": [
              "array([0.5434, 0.2784, 0.4245, 0.8448, 0.0047, 0.1216, 0.6707, 0.8259,\n",
              "       0.1367, 0.5751])"
            ]
          },
          "metadata": {},
          "execution_count": 6
        }
      ]
    },
    {
      "cell_type": "code",
      "source": [
        "npr.rand(5,5)  #generates a 5x5 array of random numbers"
      ],
      "metadata": {
        "colab": {
          "base_uri": "https://localhost:8080/"
        },
        "id": "Q6JpmUYUuamd",
        "outputId": "04a420e4-907b-4eea-c2a0-d821e3b3e06e"
      },
      "execution_count": null,
      "outputs": [
        {
          "output_type": "execute_result",
          "data": {
            "text/plain": [
              "array([[0.8913, 0.2092, 0.1853, 0.1084, 0.2197],\n",
              "       [0.9786, 0.8117, 0.1719, 0.8162, 0.2741],\n",
              "       [0.4317, 0.94  , 0.8176, 0.3361, 0.1754],\n",
              "       [0.3728, 0.0057, 0.2524, 0.7957, 0.0153],\n",
              "       [0.5988, 0.6038, 0.1051, 0.3819, 0.0365]])"
            ]
          },
          "metadata": {},
          "execution_count": 7
        }
      ]
    },
    {
      "cell_type": "code",
      "source": [
        "a = 5. #assign value 5 to varibale a\n",
        "b = 10. #assign value 10 to variable b\n",
        "npr.rand(10) * (b - a) + a  #generate a random number between 0 and 1 then multiplied by the difference between b and a (which is 5) and added to a"
      ],
      "metadata": {
        "colab": {
          "base_uri": "https://localhost:8080/"
        },
        "id": "xzkVdz1SufNj",
        "outputId": "61807aed-84e6-4912-8ee5-654e1f654341"
      },
      "execution_count": null,
      "outputs": [
        {
          "output_type": "execute_result",
          "data": {
            "text/plain": [
              "array([9.4521, 9.9046, 5.2997, 9.4527, 7.8845, 8.7124, 8.1509, 7.9092,\n",
              "       5.1022, 6.0501])"
            ]
          },
          "metadata": {},
          "execution_count": 9
        }
      ]
    },
    {
      "cell_type": "code",
      "source": [
        "npr.rand(5,5) * (b - a) + a  #generates 5 random numbers from the interval (a,b)"
      ],
      "metadata": {
        "colab": {
          "base_uri": "https://localhost:8080/"
        },
        "id": "8RgheuJywRHT",
        "outputId": "eca2a498-80b1-4db2-8b43-1ffe40080ead"
      },
      "execution_count": null,
      "outputs": [
        {
          "output_type": "execute_result",
          "data": {
            "text/plain": [
              "array([[7.7234, 8.8456, 6.2535, 6.4295, 9.262 ],\n",
              "       [9.875 , 9.4243, 6.7975, 7.9943, 6.774 ],\n",
              "       [6.701 , 5.8904, 6.1885, 5.2243, 7.5272],\n",
              "       [6.8813, 7.964 , 8.1497, 5.713 , 9.6692],\n",
              "       [9.7319, 8.0115, 6.9388, 6.8159, 6.0217]])"
            ]
          },
          "metadata": {},
          "execution_count": 10
        }
      ]
    },
    {
      "cell_type": "code",
      "source": [
        "sample_size = 500 #set variable sample size to 500\n",
        "rn1 = npr.rand(sample_size, 3) #creates a NumPy array rn1 of size (500, 3), where each row is a random number between 0 and 1.\n",
        "rn2 = npr.randint(0, 10, sample_size) #generate a random number from 0 to 10, 500 times\n",
        "rn3 = npr.sample(size=sample_size)  #returns a list of the randomly selected values.\n",
        "a = [0, 25, 50, 75, 100] #creates a list of values that will be used to create the sample\n",
        "rn4 = npr.choice(a, size=sample_size)  #randomly select 500 elements from the list a and assign them to the variable rn4"
      ],
      "metadata": {
        "id": "e0_6RPlDwY0J"
      },
      "execution_count": null,
      "outputs": []
    },
    {
      "cell_type": "code",
      "source": [
        "fig, ((ax1, ax2), (ax3, ax4)) = plt.subplots(nrows=2, ncols=2,\n",
        "                                            figsize=(10, 8)) #creates a figure with 4 subplots, arranged in a 2x2 grid. The figure is 10 inches wide and 8 inches tall.\n",
        "ax1.hist(rn1, bins=25, stacked=True) #plots a histogram of the rn1 array, with 25 bins and stacked bars\n",
        "ax1.set_title('rand') #set the title and y-axis label of the first subplot\n",
        "ax1.set_ylabel('frequency') #set the title and y-axis label of the first subplot\n",
        "ax2.hist(rn2, bins=25) #plot a histogram of the rn2 array, with 25 bins. The title of the second subplot is set to \"randint\".\n",
        "ax2.set_title('randint') #plot a histogram of the rn2 array, with 25 bins. The title of the second subplot is set to \"randint\".\n",
        "ax3.hist(rn3,bins=25) # plot a histogram of the rn3 array, with 25 bins. The title of the third subplot is set to \"sample\" and the y-axis label is set to \"frequency\"\n",
        "ax3.set_title('sample') # plot a histogram of the rn3 array, with 25 bins. The title of the third subplot is set to \"sample\" and the y-axis label is set to \"frequency\"\n",
        "ax3.set_ylabel('frequency') # plot a histogram of the rn3 array, with 25 bins. The title of the third subplot is set to \"sample\" and the y-axis label is set to \"frequency\"\n",
        "ax4.set_title('choice'); # sets the title of the fourth subplot to \"choice\"\n",
        "# plt.savefig('../../images/ch12/stoch_01.png');"
      ],
      "metadata": {
        "colab": {
          "base_uri": "https://localhost:8080/",
          "height": 698
        },
        "id": "uz9HGah0xZXB",
        "outputId": "a5764918-1d0c-4926-8f76-e972488032cf"
      },
      "execution_count": null,
      "outputs": [
        {
          "output_type": "display_data",
          "data": {
            "text/plain": [
              "<Figure size 1000x800 with 4 Axes>"
            ],
            "image/png": "[encoded data removed]"
          },
          "metadata": {}
        }
      ]
    }
  ]
}